{
 "cells": [
  {
   "cell_type": "code",
   "execution_count": 2,
   "id": "61aa3beb",
   "metadata": {},
   "outputs": [],
   "source": [
    "import collections\n",
    "import datetime\n",
    "import glob\n",
    "import numpy as np\n",
    "import pathlib\n",
    "import pandas as pd\n",
    "import pretty_midi\n",
    "import seaborn as sns\n",
    "import tensorflow as tf\n",
    "\n",
    "from IPython import display\n",
    "from matplotlib import pyplot as plt \n",
    "from typing import Dict, List, Optional, Sequence, Tuple"
   ]
  },
  {
   "cell_type": "code",
   "execution_count": 3,
   "id": "e851b4e9",
   "metadata": {},
   "outputs": [],
   "source": [
    "seed = 147564\n",
    "tf.random.set_seed(seed)\n",
    "np.random.seed(seed)\n",
    "\n",
    "_SAMPLING_RATE = 16000"
   ]
  },
  {
   "cell_type": "code",
   "execution_count": 4,
   "id": "856a9c26",
   "metadata": {},
   "outputs": [
    {
     "name": "stdout",
     "output_type": "stream",
     "text": [
      "Number of files: 65 in c:\\git\\zeldaLSTM\\Midi\n"
     ]
    }
   ],
   "source": [
    "data_dir = pathlib.Path('c:/git/zeldaLSTM/Midi')\n",
    "filenames = glob.glob(str(data_dir/'*.mid'))\n",
    "print('Number of files:', len(filenames), 'in', data_dir)"
   ]
  },
  {
   "cell_type": "code",
   "execution_count": 5,
   "id": "9e7a30d6",
   "metadata": {},
   "outputs": [
    {
     "name": "stdout",
     "output_type": "stream",
     "text": [
      "c:\\git\\zeldaLSTM\\Midi\\The Legend of Zelda - Death Mountain.mid\n"
     ]
    }
   ],
   "source": [
    "first_file = filenames[1]\n",
    "print(first_file)"
   ]
  },
  {
   "cell_type": "code",
   "execution_count": 6,
   "id": "e9b3f312",
   "metadata": {},
   "outputs": [
    {
     "name": "stdout",
     "output_type": "stream",
     "text": [
      "Number of instruments: 1\n",
      "Instrument name: Bright Acoustic Piano\n"
     ]
    }
   ],
   "source": [
    "pm = pretty_midi.PrettyMIDI(first_file)\n",
    "print('Number of instruments:', len(pm.instruments))\n",
    "instrument = pm.instruments[0]\n",
    "instrument_name = pretty_midi.program_to_instrument_name(instrument.program)\n",
    "print('Instrument name:', instrument_name)"
   ]
  },
  {
   "cell_type": "code",
   "execution_count": 7,
   "id": "eb416575",
   "metadata": {},
   "outputs": [
    {
     "name": "stdout",
     "output_type": "stream",
     "text": [
      "0: pitch=48, note_name=C3, duration=0.0921\n",
      "1: pitch=48, note_name=C3, duration=0.0808\n",
      "2: pitch=48, note_name=C3, duration=0.0796\n",
      "3: pitch=65, note_name=F4, duration=0.6255\n",
      "4: pitch=71, note_name=B4, duration=0.6255\n",
      "5: pitch=48, note_name=C3, duration=0.0816\n",
      "6: pitch=48, note_name=C3, duration=0.0816\n",
      "7: pitch=66, note_name=F#4, duration=0.3996\n",
      "8: pitch=72, note_name=C5, duration=0.4118\n",
      "9: pitch=48, note_name=C3, duration=0.0796\n"
     ]
    }
   ],
   "source": [
    "for i, note in enumerate(instrument.notes[:10]):\n",
    "  note_name = pretty_midi.note_number_to_name(note.pitch)\n",
    "  duration = note.end - note.start\n",
    "  print(f'{i}: pitch={note.pitch}, note_name={note_name},'\n",
    "        f' duration={duration:.4f}')"
   ]
  },
  {
   "cell_type": "code",
   "execution_count": 8,
   "id": "ae8f5261",
   "metadata": {},
   "outputs": [],
   "source": [
    "def midi_to_notes(midi_file: str) -> pd.DataFrame:\n",
    "  pm = pretty_midi.PrettyMIDI(midi_file)\n",
    "  instrument = pm.instruments[0]\n",
    "  notes = collections.defaultdict(list)\n",
    "\n",
    "  # Sort the notes by start time\n",
    "  sorted_notes = sorted(instrument.notes, key=lambda note: note.start)\n",
    "  prev_start = sorted_notes[0].start\n",
    "\n",
    "  for note in sorted_notes:\n",
    "    start = note.start\n",
    "    end = note.end\n",
    "    notes['pitch'].append(note.pitch)\n",
    "    notes['start'].append(start)\n",
    "    notes['end'].append(end)\n",
    "    notes['step'].append(start - prev_start)\n",
    "    notes['duration'].append(end - start)\n",
    "    prev_start = start\n",
    "\n",
    "  return pd.DataFrame({name: np.array(value) for name, value in notes.items()})"
   ]
  },
  {
   "cell_type": "code",
   "execution_count": 9,
   "id": "aef6812a",
   "metadata": {},
   "outputs": [
    {
     "data": {
      "text/html": [
       "<div>\n",
       "<style scoped>\n",
       "    .dataframe tbody tr th:only-of-type {\n",
       "        vertical-align: middle;\n",
       "    }\n",
       "\n",
       "    .dataframe tbody tr th {\n",
       "        vertical-align: top;\n",
       "    }\n",
       "\n",
       "    .dataframe thead th {\n",
       "        text-align: right;\n",
       "    }\n",
       "</style>\n",
       "<table border=\"1\" class=\"dataframe\">\n",
       "  <thead>\n",
       "    <tr style=\"text-align: right;\">\n",
       "      <th></th>\n",
       "      <th>pitch</th>\n",
       "      <th>start</th>\n",
       "      <th>end</th>\n",
       "      <th>step</th>\n",
       "      <th>duration</th>\n",
       "    </tr>\n",
       "  </thead>\n",
       "  <tbody>\n",
       "    <tr>\n",
       "      <th>0</th>\n",
       "      <td>48</td>\n",
       "      <td>0.004041</td>\n",
       "      <td>0.096175</td>\n",
       "      <td>0.000000</td>\n",
       "      <td>0.092134</td>\n",
       "    </tr>\n",
       "    <tr>\n",
       "      <th>1</th>\n",
       "      <td>65</td>\n",
       "      <td>0.004041</td>\n",
       "      <td>0.629580</td>\n",
       "      <td>0.000000</td>\n",
       "      <td>0.625539</td>\n",
       "    </tr>\n",
       "    <tr>\n",
       "      <th>2</th>\n",
       "      <td>71</td>\n",
       "      <td>0.004041</td>\n",
       "      <td>0.629580</td>\n",
       "      <td>0.000000</td>\n",
       "      <td>0.625539</td>\n",
       "    </tr>\n",
       "    <tr>\n",
       "      <th>3</th>\n",
       "      <td>48</td>\n",
       "      <td>0.220636</td>\n",
       "      <td>0.301455</td>\n",
       "      <td>0.216595</td>\n",
       "      <td>0.080819</td>\n",
       "    </tr>\n",
       "    <tr>\n",
       "      <th>4</th>\n",
       "      <td>48</td>\n",
       "      <td>0.425916</td>\n",
       "      <td>0.505523</td>\n",
       "      <td>0.205280</td>\n",
       "      <td>0.079607</td>\n",
       "    </tr>\n",
       "  </tbody>\n",
       "</table>\n",
       "</div>"
      ],
      "text/plain": [
       "   pitch     start       end      step  duration\n",
       "0     48  0.004041  0.096175  0.000000  0.092134\n",
       "1     65  0.004041  0.629580  0.000000  0.625539\n",
       "2     71  0.004041  0.629580  0.000000  0.625539\n",
       "3     48  0.220636  0.301455  0.216595  0.080819\n",
       "4     48  0.425916  0.505523  0.205280  0.079607"
      ]
     },
     "execution_count": 9,
     "metadata": {},
     "output_type": "execute_result"
    }
   ],
   "source": [
    "raw_notes = midi_to_notes(first_file)\n",
    "raw_notes.head()"
   ]
  },
  {
   "cell_type": "code",
   "execution_count": 10,
   "id": "b934f7c1",
   "metadata": {},
   "outputs": [
    {
     "data": {
      "text/plain": [
       "array(['C3', 'F4', 'B4', 'C3', 'C3', 'C3', 'F#4', 'C5', 'C3', 'C3'],\n",
       "      dtype='<U3')"
      ]
     },
     "execution_count": 10,
     "metadata": {},
     "output_type": "execute_result"
    }
   ],
   "source": [
    "get_note_names = np.vectorize(pretty_midi.note_number_to_name)\n",
    "sample_note_names = get_note_names(raw_notes['pitch'])\n",
    "sample_note_names[:10]"
   ]
  },
  {
   "cell_type": "code",
   "execution_count": 11,
   "id": "068654a6",
   "metadata": {},
   "outputs": [],
   "source": [
    "def plot_piano_roll(notes: pd.DataFrame, count: Optional[int] = None):\n",
    "  if count:\n",
    "    title = f'First {count} notes'\n",
    "  else:\n",
    "    title = f'Whole track'\n",
    "    count = len(notes['pitch'])\n",
    "  plt.figure(figsize=(20, 4))\n",
    "  plot_pitch = np.stack([notes['pitch'], notes['pitch']], axis=0)\n",
    "  plot_start_stop = np.stack([notes['start'], notes['end']], axis=0)\n",
    "  plt.plot(\n",
    "      plot_start_stop[:, :count], plot_pitch[:, :count], color=\"b\", marker=\".\")\n",
    "  plt.xlabel('Time [s]')\n",
    "  plt.ylabel('Pitch')\n",
    "  _ = plt.title(title)"
   ]
  },
  {
   "cell_type": "code",
   "execution_count": 12,
   "id": "336a257d",
   "metadata": {},
   "outputs": [
    {
     "data": {
      "image/png": "[encoded data removed]",
      "text/plain": [
       "<Figure size 1440x288 with 1 Axes>"
      ]
     },
     "metadata": {
      "needs_background": "light"
     },
     "output_type": "display_data"
    }
   ],
   "source": [
    "plot_piano_roll(raw_notes, count=100)"
   ]
  },
  {
   "cell_type": "code",
   "execution_count": 13,
   "id": "956efbef",
   "metadata": {},
   "outputs": [
    {
     "data": {
      "image/png": "[encoded data removed]",
      "text/plain": [
       "<Figure size 1440x288 with 1 Axes>"
      ]
     },
     "metadata": {
      "needs_background": "light"
     },
     "output_type": "display_data"
    }
   ],
   "source": [
    "plot_piano_roll(raw_notes)"
   ]
  },
  {
   "cell_type": "code",
   "execution_count": 14,
   "id": "8ed07119",
   "metadata": {},
   "outputs": [],
   "source": [
    "def plot_distributions(notes: pd.DataFrame, drop_percentile=2.5):\n",
    "  plt.figure(figsize=[15, 5])\n",
    "  plt.subplot(1, 3, 1)\n",
    "  sns.histplot(notes, x=\"pitch\", bins=20)\n",
    "\n",
    "  plt.subplot(1, 3, 2)\n",
    "  max_step = np.percentile(notes['step'], 100 - drop_percentile)\n",
    "  sns.histplot(notes, x=\"step\", bins=np.linspace(0, max_step, 21))\n",
    "\n",
    "  plt.subplot(1, 3, 3)\n",
    "  max_duration = np.percentile(notes['duration'], 100 - drop_percentile)\n",
    "  sns.histplot(notes, x=\"duration\", bins=np.linspace(0, max_duration, 21))"
   ]
  },
  {
   "cell_type": "code",
   "execution_count": 15,
   "id": "e5c39c9b",
   "metadata": {},
   "outputs": [
    {
     "data": {
      "image/png": "[encoded data removed]",
      "text/plain": [
       "<Figure size 1080x360 with 3 Axes>"
      ]
     },
     "metadata": {
      "needs_background": "light"
     },
     "output_type": "display_data"
    }
   ],
   "source": [
    "plot_distributions(raw_notes)"
   ]
  },
  {
   "cell_type": "code",
   "execution_count": 16,
   "id": "36311198",
   "metadata": {},
   "outputs": [],
   "source": [
    "def notes_to_midi(\n",
    "  notes: pd.DataFrame,\n",
    "  out_file: str, \n",
    "  instrument_name: str,\n",
    "  velocity: int = 100,  # note loudness\n",
    ") -> pretty_midi.PrettyMIDI:\n",
    "\n",
    "  pm = pretty_midi.PrettyMIDI()\n",
    "  instrument = pretty_midi.Instrument(\n",
    "      program=pretty_midi.instrument_name_to_program(\n",
    "          instrument_name))\n",
    "\n",
    "  prev_start = 0\n",
    "  for i, note in notes.iterrows():\n",
    "    start = float(prev_start + note['step'])\n",
    "    end = float(start + note['duration'])\n",
    "    note = pretty_midi.Note(\n",
    "        velocity=velocity,\n",
    "        pitch=int(note['pitch']),\n",
    "        start=start,\n",
    "        end=end,\n",
    "    )\n",
    "    instrument.notes.append(note)\n",
    "    prev_start = start\n",
    "\n",
    "  pm.instruments.append(instrument)\n",
    "  pm.write(out_file)\n",
    "  return pm"
   ]
  },
  {
   "cell_type": "code",
   "execution_count": 43,
   "id": "3316ca86",
   "metadata": {},
   "outputs": [
    {
     "name": "stderr",
     "output_type": "stream",
     "text": [
      "C:\\ProgramData\\Anaconda3\\envs\\notebook\\lib\\site-packages\\pretty_midi\\pretty_midi.py:97: RuntimeWarning: Tempo, Key or Time signature change events found on non-zero tracks.  This is not a valid type 0 or type 1 MIDI file.  Tempo, Key or Time Signature may be wrong.\n",
      "  warnings.warn(\n"
     ]
    }
   ],
   "source": [
    "num_files = 60\n",
    "all_notes = []\n",
    "for f in filenames[:num_files]:\n",
    "  notes = midi_to_notes(f)\n",
    "  all_notes.append(notes)\n",
    "\n",
    "all_notes = pd.concat(all_notes)"
   ]
  },
  {
   "cell_type": "code",
   "execution_count": 44,
   "id": "f740727c",
   "metadata": {},
   "outputs": [
    {
     "name": "stdout",
     "output_type": "stream",
     "text": [
      "Number of notes parsed: 40084\n"
     ]
    }
   ],
   "source": [
    "n_notes = len(all_notes)\n",
    "print('Number of notes parsed:', n_notes)"
   ]
  },
  {
   "cell_type": "code",
   "execution_count": 45,
   "id": "24829873",
   "metadata": {},
   "outputs": [],
   "source": [
    "key_order = ['pitch', 'step', 'duration']\n",
    "train_notes = np.stack([all_notes[key] for key in key_order], axis=1)"
   ]
  },
  {
   "cell_type": "code",
   "execution_count": 46,
   "id": "24384b8e",
   "metadata": {},
   "outputs": [
    {
     "data": {
      "text/plain": [
       "TensorSpec(shape=(3,), dtype=tf.float64, name=None)"
      ]
     },
     "execution_count": 46,
     "metadata": {},
     "output_type": "execute_result"
    }
   ],
   "source": [
    "notes_ds = tf.data.Dataset.from_tensor_slices(train_notes)\n",
    "notes_ds.element_spec"
   ]
  },
  {
   "cell_type": "code",
   "execution_count": 47,
   "id": "2aa02941",
   "metadata": {},
   "outputs": [],
   "source": [
    "def create_sequences(\n",
    "    dataset: tf.data.Dataset, \n",
    "    seq_length: int,\n",
    "    vocab_size = 128,\n",
    ") -> tf.data.Dataset:\n",
    "  \"\"\"Returns TF Dataset of sequence and label examples.\"\"\"\n",
    "  seq_length = seq_length+1\n",
    "\n",
    "  # Take 1 extra for the labels\n",
    "  windows = dataset.window(seq_length, shift=1, stride=1,\n",
    "                              drop_remainder=True)\n",
    "\n",
    "  # `flat_map` flattens the\" dataset of datasets\" into a dataset of tensors\n",
    "  flatten = lambda x: x.batch(seq_length, drop_remainder=True)\n",
    "  sequences = windows.flat_map(flatten)\n",
    "\n",
    "  # Normalize note pitch\n",
    "  def scale_pitch(x):\n",
    "    x = x/[vocab_size,1.0,1.0]\n",
    "    return x\n",
    "\n",
    "  # Split the labels\n",
    "  def split_labels(sequences):\n",
    "    inputs = sequences[:-1]\n",
    "    labels_dense = sequences[-1]\n",
    "    labels = {key:labels_dense[i] for i,key in enumerate(key_order)}\n",
    "\n",
    "    return scale_pitch(inputs), labels\n",
    "\n",
    "  return sequences.map(split_labels, num_parallel_calls=tf.data.AUTOTUNE)"
   ]
  },
  {
   "cell_type": "code",
   "execution_count": 81,
   "id": "bb31e558",
   "metadata": {},
   "outputs": [
    {
     "data": {
      "text/plain": [
       "(TensorSpec(shape=(50, 3), dtype=tf.float64, name=None),\n",
       " {'pitch': TensorSpec(shape=(), dtype=tf.float64, name=None),\n",
       "  'step': TensorSpec(shape=(), dtype=tf.float64, name=None),\n",
       "  'duration': TensorSpec(shape=(), dtype=tf.float64, name=None)})"
      ]
     },
     "execution_count": 81,
     "metadata": {},
     "output_type": "execute_result"
    }
   ],
   "source": [
    "seq_length = 50\n",
    "vocab_size = 128\n",
    "seq_ds = create_sequences(notes_ds, seq_length, vocab_size)\n",
    "seq_ds.element_spec"
   ]
  },
  {
   "cell_type": "code",
   "execution_count": 82,
   "id": "6d1f2ed1",
   "metadata": {},
   "outputs": [
    {
     "name": "stdout",
     "output_type": "stream",
     "text": [
      "sequence shape: (50, 3)\n",
      "sequence elements (first 10): tf.Tensor(\n",
      "[[0.453125   0.         0.79916667]\n",
      " [0.453125   1.06666667 0.1325    ]\n",
      " [0.453125   0.13333333 0.1325    ]\n",
      " [0.453125   0.13333333 0.1325    ]\n",
      " [0.453125   0.13333333 0.1325    ]\n",
      " [0.453125   0.13333333 0.26583333]\n",
      " [0.4375     0.26666667 0.1325    ]\n",
      " [0.453125   0.13333333 0.66583333]\n",
      " [0.453125   0.66666667 0.1325    ]\n",
      " [0.453125   0.13333333 0.1325    ]], shape=(10, 3), dtype=float64)\n",
      "\n",
      "target: {'pitch': <tf.Tensor: shape=(), dtype=float64, numpy=65.0>, 'step': <tf.Tensor: shape=(), dtype=float64, numpy=0.7999999999999989>, 'duration': <tf.Tensor: shape=(), dtype=float64, numpy=0.3991666666666678>}\n"
     ]
    }
   ],
   "source": [
    "for seq, target in seq_ds.take(1):\n",
    "  print('sequence shape:', seq.shape)\n",
    "  print('sequence elements (first 10):', seq[0: 10])\n",
    "  print()\n",
    "  print('target:', target)"
   ]
  },
  {
   "cell_type": "code",
   "execution_count": 83,
   "id": "bbffebf6",
   "metadata": {},
   "outputs": [],
   "source": [
    "batch_size = 64\n",
    "buffer_size = n_notes - seq_length  # the number of items in the dataset\n",
    "train_ds = (seq_ds\n",
    "            .shuffle(buffer_size)\n",
    "            .batch(batch_size, drop_remainder=True)\n",
    "            .cache()\n",
    "            .prefetch(tf.data.experimental.AUTOTUNE))"
   ]
  },
  {
   "cell_type": "code",
   "execution_count": 84,
   "id": "36865723",
   "metadata": {},
   "outputs": [
    {
     "data": {
      "text/plain": [
       "(TensorSpec(shape=(64, 50, 3), dtype=tf.float64, name=None),\n",
       " {'pitch': TensorSpec(shape=(64,), dtype=tf.float64, name=None),\n",
       "  'step': TensorSpec(shape=(64,), dtype=tf.float64, name=None),\n",
       "  'duration': TensorSpec(shape=(64,), dtype=tf.float64, name=None)})"
      ]
     },
     "execution_count": 84,
     "metadata": {},
     "output_type": "execute_result"
    }
   ],
   "source": [
    "train_ds.element_spec"
   ]
  },
  {
   "cell_type": "code",
   "execution_count": 85,
   "id": "aa700b48",
   "metadata": {},
   "outputs": [],
   "source": [
    "def mse_with_positive_pressure(y_true: tf.Tensor, y_pred: tf.Tensor):\n",
    "  mse = (y_true - y_pred) ** 2\n",
    "  positive_pressure = 10 * tf.maximum(-y_pred, 0.0)\n",
    "  return tf.reduce_mean(mse + positive_pressure)"
   ]
  },
  {
   "cell_type": "code",
   "execution_count": 86,
   "id": "980aa085",
   "metadata": {},
   "outputs": [
    {
     "name": "stdout",
     "output_type": "stream",
     "text": [
      "Model: \"model_3\"\n",
      "__________________________________________________________________________________________________\n",
      " Layer (type)                   Output Shape         Param #     Connected to                     \n",
      "==================================================================================================\n",
      " input_4 (InputLayer)           [(None, 50, 3)]      0           []                               \n",
      "                                                                                                  \n",
      " lstm_3 (LSTM)                  (None, 128)          67584       ['input_4[0][0]']                \n",
      "                                                                                                  \n",
      " duration (Dense)               (None, 1)            129         ['lstm_3[0][0]']                 \n",
      "                                                                                                  \n",
      " pitch (Dense)                  (None, 128)          16512       ['lstm_3[0][0]']                 \n",
      "                                                                                                  \n",
      " step (Dense)                   (None, 1)            129         ['lstm_3[0][0]']                 \n",
      "                                                                                                  \n",
      "==================================================================================================\n",
      "Total params: 84,354\n",
      "Trainable params: 84,354\n",
      "Non-trainable params: 0\n",
      "__________________________________________________________________________________________________\n"
     ]
    }
   ],
   "source": [
    "input_shape = (seq_length, 3)\n",
    "learning_rate = 0.005\n",
    "\n",
    "inputs = tf.keras.Input(input_shape)\n",
    "x = tf.keras.layers.LSTM(128)(inputs)\n",
    "\n",
    "outputs = {\n",
    "  'pitch': tf.keras.layers.Dense(128, name='pitch')(x),\n",
    "  'step': tf.keras.layers.Dense(1, name='step')(x),\n",
    "  'duration': tf.keras.layers.Dense(1, name='duration')(x),\n",
    "}\n",
    "\n",
    "model = tf.keras.Model(inputs, outputs)\n",
    "\n",
    "loss = {\n",
    "      'pitch': tf.keras.losses.SparseCategoricalCrossentropy(\n",
    "          from_logits=True),\n",
    "      'step': mse_with_positive_pressure,\n",
    "      'duration': mse_with_positive_pressure,\n",
    "}\n",
    "\n",
    "optimizer = tf.keras.optimizers.Adam(learning_rate=learning_rate)\n",
    "\n",
    "model.compile(loss=loss, optimizer=optimizer)\n",
    "\n",
    "model.summary()"
   ]
  },
  {
   "cell_type": "code",
   "execution_count": 87,
   "id": "4545ae37",
   "metadata": {},
   "outputs": [
    {
     "name": "stdout",
     "output_type": "stream",
     "text": [
      "625/625 [==============================] - 12s 15ms/step - loss: 5.8741 - duration_loss: 0.6444 - pitch_loss: 4.8513 - step_loss: 0.3784\n"
     ]
    },
    {
     "data": {
      "text/plain": [
       "{'loss': 5.874124050140381,\n",
       " 'duration_loss': 0.6444364190101624,\n",
       " 'pitch_loss': 4.851304531097412,\n",
       " 'step_loss': 0.37838223576545715}"
      ]
     },
     "execution_count": 87,
     "metadata": {},
     "output_type": "execute_result"
    }
   ],
   "source": [
    "losses = model.evaluate(train_ds, return_dict=True)\n",
    "losses"
   ]
  },
  {
   "cell_type": "code",
   "execution_count": 88,
   "id": "4b606ee8",
   "metadata": {},
   "outputs": [],
   "source": [
    "model.compile(\n",
    "    loss=loss,\n",
    "    loss_weights={\n",
    "        'pitch': 0.05,\n",
    "        'step': 1.0,\n",
    "        'duration':1.0,\n",
    "    },\n",
    "    optimizer=optimizer,\n",
    ")"
   ]
  },
  {
   "cell_type": "code",
   "execution_count": 89,
   "id": "ebd80ff9",
   "metadata": {},
   "outputs": [
    {
     "name": "stdout",
     "output_type": "stream",
     "text": [
      "625/625 [==============================] - 12s 18ms/step - loss: 1.2654 - duration_loss: 0.6444 - pitch_loss: 4.8513 - step_loss: 0.3784\n"
     ]
    },
    {
     "data": {
      "text/plain": [
       "{'loss': 1.2653836011886597,\n",
       " 'duration_loss': 0.6444364190101624,\n",
       " 'pitch_loss': 4.851304531097412,\n",
       " 'step_loss': 0.37838223576545715}"
      ]
     },
     "execution_count": 89,
     "metadata": {},
     "output_type": "execute_result"
    }
   ],
   "source": [
    "model.evaluate(train_ds, return_dict=True)"
   ]
  },
  {
   "cell_type": "code",
   "execution_count": 90,
   "id": "16a8b5d2",
   "metadata": {},
   "outputs": [],
   "source": [
    "callbacks = [\n",
    "    tf.keras.callbacks.ModelCheckpoint(\n",
    "        filepath='./training_checkpoints/ckpt_{epoch}',\n",
    "        save_weights_only=True),\n",
    "    tf.keras.callbacks.EarlyStopping(\n",
    "        monitor='loss',\n",
    "        patience=5,\n",
    "        verbose=1,\n",
    "        restore_best_weights=True),\n",
    "]"
   ]
  },
  {
   "cell_type": "code",
   "execution_count": 91,
   "id": "4e21ee7a",
   "metadata": {},
   "outputs": [
    {
     "name": "stdout",
     "output_type": "stream",
     "text": [
      "Epoch 1/50\n",
      "625/625 [==============================] - 28s 43ms/step - loss: 0.4549 - duration_loss: 0.2028 - pitch_loss: 3.9215 - step_loss: 0.0560\n",
      "Epoch 2/50\n",
      "625/625 [==============================] - 29s 46ms/step - loss: 0.4295 - duration_loss: 0.1880 - pitch_loss: 3.8255 - step_loss: 0.0502\n",
      "Epoch 3/50\n",
      "625/625 [==============================] - 30s 48ms/step - loss: 0.4191 - duration_loss: 0.1818 - pitch_loss: 3.7888 - step_loss: 0.0479\n",
      "Epoch 4/50\n",
      "625/625 [==============================] - 30s 48ms/step - loss: 0.4069 - duration_loss: 0.1750 - pitch_loss: 3.7377 - step_loss: 0.0450\n",
      "Epoch 5/50\n",
      "625/625 [==============================] - 30s 48ms/step - loss: 0.3977 - duration_loss: 0.1698 - pitch_loss: 3.7005 - step_loss: 0.0429\n",
      "Epoch 6/50\n",
      "625/625 [==============================] - 30s 48ms/step - loss: 0.3840 - duration_loss: 0.1602 - pitch_loss: 3.6675 - step_loss: 0.0405\n",
      "Epoch 7/50\n",
      "625/625 [==============================] - 30s 49ms/step - loss: 0.3713 - duration_loss: 0.1517 - pitch_loss: 3.6388 - step_loss: 0.0376\n",
      "Epoch 8/50\n",
      "625/625 [==============================] - 31s 49ms/step - loss: 0.3584 - duration_loss: 0.1421 - pitch_loss: 3.5991 - step_loss: 0.0364\n",
      "Epoch 9/50\n",
      "625/625 [==============================] - 31s 49ms/step - loss: 0.3496 - duration_loss: 0.1365 - pitch_loss: 3.5708 - step_loss: 0.0345\n",
      "Epoch 10/50\n",
      "625/625 [==============================] - 31s 50ms/step - loss: 0.3432 - duration_loss: 0.1325 - pitch_loss: 3.5308 - step_loss: 0.0342\n",
      "Epoch 11/50\n",
      "625/625 [==============================] - 31s 50ms/step - loss: 0.3353 - duration_loss: 0.1272 - pitch_loss: 3.5008 - step_loss: 0.0331\n",
      "Epoch 12/50\n",
      "625/625 [==============================] - 32s 52ms/step - loss: 0.3216 - duration_loss: 0.1181 - pitch_loss: 3.4626 - step_loss: 0.0303\n",
      "Epoch 13/50\n",
      "625/625 [==============================] - 32s 51ms/step - loss: 0.3122 - duration_loss: 0.1118 - pitch_loss: 3.4298 - step_loss: 0.0289\n",
      "Epoch 14/50\n",
      "625/625 [==============================] - 32s 50ms/step - loss: 0.3068 - duration_loss: 0.1082 - pitch_loss: 3.3995 - step_loss: 0.0287\n",
      "Epoch 15/50\n",
      "625/625 [==============================] - 31s 50ms/step - loss: 0.2975 - duration_loss: 0.1022 - pitch_loss: 3.3568 - step_loss: 0.0274\n",
      "Epoch 16/50\n",
      "625/625 [==============================] - 32s 51ms/step - loss: 0.2882 - duration_loss: 0.0956 - pitch_loss: 3.3208 - step_loss: 0.0265\n",
      "Epoch 17/50\n",
      "625/625 [==============================] - 31s 50ms/step - loss: 0.2811 - duration_loss: 0.0915 - pitch_loss: 3.2809 - step_loss: 0.0255\n",
      "Epoch 18/50\n",
      "625/625 [==============================] - 31s 50ms/step - loss: 0.2757 - duration_loss: 0.0882 - pitch_loss: 3.2531 - step_loss: 0.0249\n",
      "Epoch 19/50\n",
      "625/625 [==============================] - 32s 51ms/step - loss: 0.2717 - duration_loss: 0.0859 - pitch_loss: 3.2260 - step_loss: 0.0245\n",
      "Epoch 20/50\n",
      "625/625 [==============================] - 32s 51ms/step - loss: 0.2622 - duration_loss: 0.0791 - pitch_loss: 3.1850 - step_loss: 0.0239\n",
      "Epoch 21/50\n",
      "625/625 [==============================] - 32s 50ms/step - loss: 0.2660 - duration_loss: 0.0833 - pitch_loss: 3.1700 - step_loss: 0.0242\n",
      "Epoch 22/50\n",
      "625/625 [==============================] - 31s 50ms/step - loss: 0.2600 - duration_loss: 0.0794 - pitch_loss: 3.1375 - step_loss: 0.0238\n",
      "Epoch 23/50\n",
      "625/625 [==============================] - 32s 50ms/step - loss: 0.2487 - duration_loss: 0.0714 - pitch_loss: 3.0960 - step_loss: 0.0225\n",
      "Epoch 24/50\n",
      "625/625 [==============================] - 32s 51ms/step - loss: 0.2417 - duration_loss: 0.0665 - pitch_loss: 3.0658 - step_loss: 0.0219\n",
      "Epoch 25/50\n",
      "625/625 [==============================] - 31s 50ms/step - loss: 0.2360 - duration_loss: 0.0634 - pitch_loss: 3.0362 - step_loss: 0.0207\n",
      "Epoch 26/50\n",
      "625/625 [==============================] - 32s 50ms/step - loss: 0.2318 - duration_loss: 0.0609 - pitch_loss: 3.0077 - step_loss: 0.0204\n",
      "Epoch 27/50\n",
      "625/625 [==============================] - 32s 51ms/step - loss: 0.2267 - duration_loss: 0.0578 - pitch_loss: 2.9788 - step_loss: 0.0200\n",
      "Epoch 28/50\n",
      "625/625 [==============================] - 32s 51ms/step - loss: 0.2260 - duration_loss: 0.0580 - pitch_loss: 2.9611 - step_loss: 0.0200\n",
      "Epoch 29/50\n",
      "625/625 [==============================] - 32s 51ms/step - loss: 0.2309 - duration_loss: 0.0627 - pitch_loss: 2.9487 - step_loss: 0.0208\n",
      "Epoch 30/50\n",
      "625/625 [==============================] - 32s 51ms/step - loss: 0.2200 - duration_loss: 0.0548 - pitch_loss: 2.9112 - step_loss: 0.0196\n",
      "Epoch 31/50\n",
      "625/625 [==============================] - 32s 51ms/step - loss: 0.2119 - duration_loss: 0.0497 - pitch_loss: 2.8724 - step_loss: 0.0186\n",
      "Epoch 32/50\n",
      "625/625 [==============================] - 32s 52ms/step - loss: 0.2105 - duration_loss: 0.0492 - pitch_loss: 2.8515 - step_loss: 0.0187\n",
      "Epoch 33/50\n",
      "625/625 [==============================] - 31s 50ms/step - loss: 0.2098 - duration_loss: 0.0494 - pitch_loss: 2.8370 - step_loss: 0.0186\n",
      "Epoch 34/50\n",
      "625/625 [==============================] - 31s 50ms/step - loss: 0.2062 - duration_loss: 0.0475 - pitch_loss: 2.8049 - step_loss: 0.0184\n",
      "Epoch 35/50\n",
      "625/625 [==============================] - 32s 50ms/step - loss: 0.2024 - duration_loss: 0.0456 - pitch_loss: 2.7754 - step_loss: 0.0180\n",
      "Epoch 36/50\n",
      "625/625 [==============================] - 31s 50ms/step - loss: 0.1987 - duration_loss: 0.0433 - pitch_loss: 2.7481 - step_loss: 0.0180\n",
      "Epoch 37/50\n",
      "625/625 [==============================] - 31s 50ms/step - loss: 0.1947 - duration_loss: 0.0410 - pitch_loss: 2.7178 - step_loss: 0.0178\n",
      "Epoch 38/50\n",
      "625/625 [==============================] - 31s 50ms/step - loss: 0.1930 - duration_loss: 0.0406 - pitch_loss: 2.6997 - step_loss: 0.0174\n",
      "Epoch 39/50\n",
      "625/625 [==============================] - 31s 49ms/step - loss: 0.1924 - duration_loss: 0.0412 - pitch_loss: 2.6843 - step_loss: 0.0170\n",
      "Epoch 40/50\n",
      "625/625 [==============================] - 31s 49ms/step - loss: 0.1873 - duration_loss: 0.0379 - pitch_loss: 2.6478 - step_loss: 0.0170\n",
      "Epoch 41/50\n",
      "625/625 [==============================] - 31s 49ms/step - loss: 0.1904 - duration_loss: 0.0406 - pitch_loss: 2.6416 - step_loss: 0.0177\n",
      "Epoch 42/50\n",
      "625/625 [==============================] - 31s 49ms/step - loss: 0.1875 - duration_loss: 0.0395 - pitch_loss: 2.6173 - step_loss: 0.0171\n",
      "Epoch 43/50\n",
      "625/625 [==============================] - 31s 49ms/step - loss: 0.1789 - duration_loss: 0.0342 - pitch_loss: 2.5685 - step_loss: 0.0163\n",
      "Epoch 44/50\n",
      "625/625 [==============================] - 31s 49ms/step - loss: 0.1794 - duration_loss: 0.0353 - pitch_loss: 2.5569 - step_loss: 0.0163\n",
      "Epoch 45/50\n",
      "625/625 [==============================] - 31s 49ms/step - loss: 0.1780 - duration_loss: 0.0348 - pitch_loss: 2.5400 - step_loss: 0.0163\n",
      "Epoch 46/50\n",
      "625/625 [==============================] - 31s 49ms/step - loss: 0.1778 - duration_loss: 0.0344 - pitch_loss: 2.5342 - step_loss: 0.0167\n",
      "Epoch 47/50\n",
      "625/625 [==============================] - 31s 49ms/step - loss: 0.1797 - duration_loss: 0.0362 - pitch_loss: 2.5408 - step_loss: 0.0164\n",
      "Epoch 48/50\n",
      "625/625 [==============================] - 31s 49ms/step - loss: 0.1709 - duration_loss: 0.0314 - pitch_loss: 2.4745 - step_loss: 0.0157\n",
      "Epoch 49/50\n",
      "625/625 [==============================] - 31s 49ms/step - loss: 0.1688 - duration_loss: 0.0307 - pitch_loss: 2.4457 - step_loss: 0.0159\n",
      "Epoch 50/50\n",
      "625/625 [==============================] - 31s 49ms/step - loss: 0.1669 - duration_loss: 0.0303 - pitch_loss: 2.4257 - step_loss: 0.0153\n",
      "CPU times: total: 1h 53min 3s\n",
      "Wall time: 25min 52s\n"
     ]
    }
   ],
   "source": [
    "%%time\n",
    "epochs = 50\n",
    "\n",
    "history = model.fit(\n",
    "    train_ds,\n",
    "    epochs=epochs,\n",
    "    callbacks=callbacks,\n",
    ")"
   ]
  },
  {
   "cell_type": "code",
   "execution_count": 92,
   "id": "ec91aa81",
   "metadata": {},
   "outputs": [
    {
     "data": {
      "image/png": "[encoded data removed]",
      "text/plain": [
       "<Figure size 432x288 with 1 Axes>"
      ]
     },
     "metadata": {
      "needs_background": "light"
     },
     "output_type": "display_data"
    }
   ],
   "source": [
    "plt.plot(history.epoch, history.history['loss'], label='total loss')\n",
    "plt.show()"
   ]
  },
  {
   "cell_type": "code",
   "execution_count": 60,
   "id": "14d11fee",
   "metadata": {},
   "outputs": [],
   "source": [
    "def predict_next_note(\n",
    "    notes: np.ndarray, \n",
    "    keras_model: tf.keras.Model, \n",
    "    temperature: float = 1.0) -> int:\n",
    "  \"\"\"Generates a note IDs using a trained sequence model.\"\"\"\n",
    "\n",
    "  assert temperature > 0\n",
    "\n",
    "  # Add batch dimension\n",
    "  inputs = tf.expand_dims(notes, 0)\n",
    "\n",
    "  predictions = model.predict(inputs)\n",
    "  pitch_logits = predictions['pitch']\n",
    "  step = predictions['step']\n",
    "  duration = predictions['duration']\n",
    "\n",
    "  pitch_logits /= temperature\n",
    "  pitch = tf.random.categorical(pitch_logits, num_samples=1)\n",
    "  pitch = tf.squeeze(pitch, axis=-1)\n",
    "  duration = tf.squeeze(duration, axis=-1)\n",
    "  step = tf.squeeze(step, axis=-1)\n",
    "\n",
    "  # `step` and `duration` values should be non-negative\n",
    "  step = tf.maximum(0, step)\n",
    "  duration = tf.maximum(0, duration)\n",
    "\n",
    "  return int(pitch), float(step), float(duration)"
   ]
  },
  {
   "cell_type": "code",
   "execution_count": 93,
   "id": "6d220dcf",
   "metadata": {},
   "outputs": [
    {
     "name": "stdout",
     "output_type": "stream",
     "text": [
      "1/1 [==============================] - 0s 233ms/step\n",
      "1/1 [==============================] - 0s 15ms/step\n",
      "1/1 [==============================] - 0s 16ms/step\n",
      "1/1 [==============================] - 0s 14ms/step\n",
      "1/1 [==============================] - 0s 17ms/step\n",
      "1/1 [==============================] - 0s 14ms/step\n",
      "1/1 [==============================] - 0s 16ms/step\n",
      "1/1 [==============================] - 0s 15ms/step\n",
      "1/1 [==============================] - 0s 16ms/step\n",
      "1/1 [==============================] - 0s 14ms/step\n",
      "1/1 [==============================] - 0s 15ms/step\n",
      "1/1 [==============================] - 0s 14ms/step\n",
      "1/1 [==============================] - 0s 13ms/step\n",
      "1/1 [==============================] - 0s 14ms/step\n",
      "1/1 [==============================] - 0s 14ms/step\n",
      "1/1 [==============================] - 0s 14ms/step\n",
      "1/1 [==============================] - 0s 15ms/step\n",
      "1/1 [==============================] - 0s 14ms/step\n",
      "1/1 [==============================] - 0s 17ms/step\n",
      "1/1 [==============================] - 0s 15ms/step\n",
      "1/1 [==============================] - 0s 15ms/step\n",
      "1/1 [==============================] - 0s 16ms/step\n",
      "1/1 [==============================] - 0s 16ms/step\n",
      "1/1 [==============================] - 0s 21ms/step\n",
      "1/1 [==============================] - 0s 16ms/step\n",
      "1/1 [==============================] - 0s 15ms/step\n",
      "1/1 [==============================] - 0s 15ms/step\n",
      "1/1 [==============================] - 0s 16ms/step\n",
      "1/1 [==============================] - 0s 13ms/step\n",
      "1/1 [==============================] - 0s 13ms/step\n",
      "1/1 [==============================] - 0s 12ms/step\n",
      "1/1 [==============================] - 0s 12ms/step\n",
      "1/1 [==============================] - 0s 13ms/step\n",
      "1/1 [==============================] - 0s 13ms/step\n",
      "1/1 [==============================] - 0s 16ms/step\n",
      "1/1 [==============================] - 0s 13ms/step\n",
      "1/1 [==============================] - 0s 13ms/step\n",
      "1/1 [==============================] - 0s 13ms/step\n",
      "1/1 [==============================] - 0s 16ms/step\n",
      "1/1 [==============================] - 0s 16ms/step\n",
      "1/1 [==============================] - 0s 15ms/step\n",
      "1/1 [==============================] - 0s 12ms/step\n",
      "1/1 [==============================] - 0s 15ms/step\n",
      "1/1 [==============================] - 0s 13ms/step\n",
      "1/1 [==============================] - 0s 15ms/step\n",
      "1/1 [==============================] - 0s 13ms/step\n",
      "1/1 [==============================] - 0s 14ms/step\n",
      "1/1 [==============================] - 0s 13ms/step\n",
      "1/1 [==============================] - 0s 15ms/step\n",
      "1/1 [==============================] - 0s 15ms/step\n",
      "1/1 [==============================] - 0s 14ms/step\n",
      "1/1 [==============================] - 0s 12ms/step\n",
      "1/1 [==============================] - 0s 15ms/step\n",
      "1/1 [==============================] - 0s 14ms/step\n",
      "1/1 [==============================] - 0s 12ms/step\n",
      "1/1 [==============================] - 0s 12ms/step\n",
      "1/1 [==============================] - 0s 14ms/step\n",
      "1/1 [==============================] - 0s 13ms/step\n",
      "1/1 [==============================] - 0s 12ms/step\n",
      "1/1 [==============================] - 0s 13ms/step\n",
      "1/1 [==============================] - 0s 15ms/step\n",
      "1/1 [==============================] - 0s 15ms/step\n",
      "1/1 [==============================] - 0s 15ms/step\n",
      "1/1 [==============================] - 0s 14ms/step\n",
      "1/1 [==============================] - 0s 14ms/step\n",
      "1/1 [==============================] - 0s 13ms/step\n",
      "1/1 [==============================] - 0s 13ms/step\n",
      "1/1 [==============================] - 0s 12ms/step\n",
      "1/1 [==============================] - 0s 13ms/step\n",
      "1/1 [==============================] - 0s 13ms/step\n",
      "1/1 [==============================] - 0s 13ms/step\n",
      "1/1 [==============================] - 0s 15ms/step\n",
      "1/1 [==============================] - 0s 15ms/step\n",
      "1/1 [==============================] - 0s 15ms/step\n",
      "1/1 [==============================] - 0s 13ms/step\n",
      "1/1 [==============================] - 0s 14ms/step\n",
      "1/1 [==============================] - 0s 14ms/step\n",
      "1/1 [==============================] - 0s 14ms/step\n",
      "1/1 [==============================] - 0s 14ms/step\n",
      "1/1 [==============================] - 0s 14ms/step\n",
      "1/1 [==============================] - 0s 13ms/step\n",
      "1/1 [==============================] - 0s 13ms/step\n",
      "1/1 [==============================] - 0s 13ms/step\n",
      "1/1 [==============================] - 0s 13ms/step\n",
      "1/1 [==============================] - 0s 13ms/step\n",
      "1/1 [==============================] - 0s 13ms/step\n",
      "1/1 [==============================] - 0s 15ms/step\n",
      "1/1 [==============================] - 0s 14ms/step\n",
      "1/1 [==============================] - 0s 15ms/step\n",
      "1/1 [==============================] - 0s 15ms/step\n",
      "1/1 [==============================] - 0s 13ms/step\n",
      "1/1 [==============================] - 0s 14ms/step\n",
      "1/1 [==============================] - 0s 13ms/step\n",
      "1/1 [==============================] - 0s 14ms/step\n",
      "1/1 [==============================] - 0s 17ms/step\n",
      "1/1 [==============================] - 0s 13ms/step\n",
      "1/1 [==============================] - 0s 16ms/step\n",
      "1/1 [==============================] - 0s 13ms/step\n",
      "1/1 [==============================] - 0s 15ms/step\n",
      "1/1 [==============================] - 0s 15ms/step\n",
      "1/1 [==============================] - 0s 13ms/step\n",
      "1/1 [==============================] - 0s 14ms/step\n",
      "1/1 [==============================] - 0s 15ms/step\n",
      "1/1 [==============================] - 0s 14ms/step\n",
      "1/1 [==============================] - 0s 16ms/step\n",
      "1/1 [==============================] - 0s 14ms/step\n",
      "1/1 [==============================] - 0s 15ms/step\n",
      "1/1 [==============================] - 0s 13ms/step\n",
      "1/1 [==============================] - 0s 16ms/step\n",
      "1/1 [==============================] - 0s 12ms/step\n",
      "1/1 [==============================] - 0s 14ms/step\n",
      "1/1 [==============================] - 0s 15ms/step\n",
      "1/1 [==============================] - 0s 14ms/step\n",
      "1/1 [==============================] - 0s 14ms/step\n",
      "1/1 [==============================] - 0s 14ms/step\n",
      "1/1 [==============================] - 0s 13ms/step\n",
      "1/1 [==============================] - 0s 13ms/step\n",
      "1/1 [==============================] - 0s 14ms/step\n",
      "1/1 [==============================] - 0s 13ms/step\n",
      "1/1 [==============================] - 0s 12ms/step\n",
      "1/1 [==============================] - 0s 13ms/step\n",
      "1/1 [==============================] - 0s 14ms/step\n",
      "1/1 [==============================] - 0s 14ms/step\n",
      "1/1 [==============================] - 0s 13ms/step\n",
      "1/1 [==============================] - 0s 14ms/step\n",
      "1/1 [==============================] - 0s 15ms/step\n",
      "1/1 [==============================] - 0s 16ms/step\n",
      "1/1 [==============================] - 0s 14ms/step\n",
      "1/1 [==============================] - 0s 14ms/step\n",
      "1/1 [==============================] - 0s 17ms/step\n",
      "1/1 [==============================] - 0s 14ms/step\n",
      "1/1 [==============================] - 0s 13ms/step\n",
      "1/1 [==============================] - 0s 14ms/step\n",
      "1/1 [==============================] - 0s 15ms/step\n",
      "1/1 [==============================] - 0s 16ms/step\n",
      "1/1 [==============================] - 0s 14ms/step\n",
      "1/1 [==============================] - 0s 15ms/step\n",
      "1/1 [==============================] - 0s 16ms/step\n",
      "1/1 [==============================] - 0s 17ms/step\n",
      "1/1 [==============================] - 0s 15ms/step\n",
      "1/1 [==============================] - 0s 12ms/step\n",
      "1/1 [==============================] - 0s 17ms/step\n",
      "1/1 [==============================] - 0s 16ms/step\n",
      "1/1 [==============================] - 0s 16ms/step\n",
      "1/1 [==============================] - 0s 14ms/step\n",
      "1/1 [==============================] - 0s 15ms/step\n",
      "1/1 [==============================] - 0s 14ms/step\n",
      "1/1 [==============================] - 0s 14ms/step\n",
      "1/1 [==============================] - 0s 13ms/step\n",
      "1/1 [==============================] - 0s 13ms/step\n",
      "1/1 [==============================] - 0s 17ms/step\n",
      "1/1 [==============================] - 0s 13ms/step\n",
      "1/1 [==============================] - 0s 16ms/step\n",
      "1/1 [==============================] - 0s 14ms/step\n",
      "1/1 [==============================] - 0s 17ms/step\n",
      "1/1 [==============================] - 0s 15ms/step\n",
      "1/1 [==============================] - 0s 17ms/step\n"
     ]
    },
    {
     "name": "stdout",
     "output_type": "stream",
     "text": [
      "1/1 [==============================] - 0s 15ms/step\n",
      "1/1 [==============================] - 0s 14ms/step\n",
      "1/1 [==============================] - 0s 16ms/step\n",
      "1/1 [==============================] - 0s 13ms/step\n",
      "1/1 [==============================] - 0s 13ms/step\n",
      "1/1 [==============================] - 0s 13ms/step\n",
      "1/1 [==============================] - 0s 13ms/step\n",
      "1/1 [==============================] - 0s 13ms/step\n",
      "1/1 [==============================] - 0s 14ms/step\n",
      "1/1 [==============================] - 0s 14ms/step\n",
      "1/1 [==============================] - 0s 14ms/step\n",
      "1/1 [==============================] - 0s 13ms/step\n",
      "1/1 [==============================] - 0s 13ms/step\n",
      "1/1 [==============================] - 0s 13ms/step\n",
      "1/1 [==============================] - 0s 13ms/step\n",
      "1/1 [==============================] - 0s 13ms/step\n",
      "1/1 [==============================] - 0s 12ms/step\n",
      "1/1 [==============================] - 0s 13ms/step\n",
      "1/1 [==============================] - 0s 14ms/step\n",
      "1/1 [==============================] - 0s 16ms/step\n",
      "1/1 [==============================] - 0s 15ms/step\n",
      "1/1 [==============================] - 0s 12ms/step\n",
      "1/1 [==============================] - 0s 12ms/step\n",
      "1/1 [==============================] - 0s 12ms/step\n",
      "1/1 [==============================] - 0s 13ms/step\n",
      "1/1 [==============================] - 0s 13ms/step\n",
      "1/1 [==============================] - 0s 14ms/step\n",
      "1/1 [==============================] - 0s 14ms/step\n",
      "1/1 [==============================] - 0s 15ms/step\n",
      "1/1 [==============================] - 0s 15ms/step\n",
      "1/1 [==============================] - 0s 13ms/step\n",
      "1/1 [==============================] - 0s 15ms/step\n",
      "1/1 [==============================] - 0s 13ms/step\n",
      "1/1 [==============================] - 0s 14ms/step\n",
      "1/1 [==============================] - 0s 12ms/step\n",
      "1/1 [==============================] - 0s 13ms/step\n",
      "1/1 [==============================] - 0s 15ms/step\n",
      "1/1 [==============================] - 0s 14ms/step\n",
      "1/1 [==============================] - 0s 16ms/step\n",
      "1/1 [==============================] - 0s 13ms/step\n",
      "1/1 [==============================] - 0s 12ms/step\n",
      "1/1 [==============================] - 0s 12ms/step\n",
      "1/1 [==============================] - 0s 14ms/step\n"
     ]
    }
   ],
   "source": [
    "temperature = 2.0\n",
    "num_predictions = 200\n",
    "\n",
    "sample_notes = np.stack([raw_notes[key] for key in key_order], axis=1)\n",
    "\n",
    "# The initial sequence of notes; pitch is normalized similar to training\n",
    "# sequences\n",
    "input_notes = (\n",
    "    sample_notes[:seq_length] / np.array([vocab_size, 1, 1]))\n",
    "\n",
    "generated_notes = []\n",
    "prev_start = 0\n",
    "for _ in range(num_predictions):\n",
    "  pitch, step, duration = predict_next_note(input_notes, model, temperature)\n",
    "  start = prev_start + step\n",
    "  end = start + duration\n",
    "  input_note = (pitch, step, duration)\n",
    "  generated_notes.append((*input_note, start, end))\n",
    "  input_notes = np.delete(input_notes, 0, axis=0)\n",
    "  input_notes = np.append(input_notes, np.expand_dims(input_note, 0), axis=0)\n",
    "  prev_start = start\n",
    "\n",
    "generated_notes = pd.DataFrame(\n",
    "    generated_notes, columns=(*key_order, 'start', 'end'))"
   ]
  },
  {
   "cell_type": "code",
   "execution_count": 94,
   "id": "46f0eae1",
   "metadata": {},
   "outputs": [
    {
     "data": {
      "text/html": [
       "<div>\n",
       "<style scoped>\n",
       "    .dataframe tbody tr th:only-of-type {\n",
       "        vertical-align: middle;\n",
       "    }\n",
       "\n",
       "    .dataframe tbody tr th {\n",
       "        vertical-align: top;\n",
       "    }\n",
       "\n",
       "    .dataframe thead th {\n",
       "        text-align: right;\n",
       "    }\n",
       "</style>\n",
       "<table border=\"1\" class=\"dataframe\">\n",
       "  <thead>\n",
       "    <tr style=\"text-align: right;\">\n",
       "      <th></th>\n",
       "      <th>pitch</th>\n",
       "      <th>step</th>\n",
       "      <th>duration</th>\n",
       "      <th>start</th>\n",
       "      <th>end</th>\n",
       "    </tr>\n",
       "  </thead>\n",
       "  <tbody>\n",
       "    <tr>\n",
       "      <th>0</th>\n",
       "      <td>78</td>\n",
       "      <td>0.089361</td>\n",
       "      <td>0.601668</td>\n",
       "      <td>0.089361</td>\n",
       "      <td>0.691029</td>\n",
       "    </tr>\n",
       "    <tr>\n",
       "      <th>1</th>\n",
       "      <td>45</td>\n",
       "      <td>0.056077</td>\n",
       "      <td>1.067571</td>\n",
       "      <td>0.145438</td>\n",
       "      <td>1.213008</td>\n",
       "    </tr>\n",
       "    <tr>\n",
       "      <th>2</th>\n",
       "      <td>41</td>\n",
       "      <td>0.031577</td>\n",
       "      <td>1.084505</td>\n",
       "      <td>0.177015</td>\n",
       "      <td>1.261520</td>\n",
       "    </tr>\n",
       "    <tr>\n",
       "      <th>3</th>\n",
       "      <td>40</td>\n",
       "      <td>0.014793</td>\n",
       "      <td>1.094581</td>\n",
       "      <td>0.191809</td>\n",
       "      <td>1.286389</td>\n",
       "    </tr>\n",
       "    <tr>\n",
       "      <th>4</th>\n",
       "      <td>36</td>\n",
       "      <td>0.018356</td>\n",
       "      <td>1.097823</td>\n",
       "      <td>0.210164</td>\n",
       "      <td>1.307988</td>\n",
       "    </tr>\n",
       "    <tr>\n",
       "      <th>5</th>\n",
       "      <td>40</td>\n",
       "      <td>0.023389</td>\n",
       "      <td>1.092744</td>\n",
       "      <td>0.233553</td>\n",
       "      <td>1.326297</td>\n",
       "    </tr>\n",
       "    <tr>\n",
       "      <th>6</th>\n",
       "      <td>40</td>\n",
       "      <td>0.034646</td>\n",
       "      <td>1.050740</td>\n",
       "      <td>0.268199</td>\n",
       "      <td>1.318939</td>\n",
       "    </tr>\n",
       "    <tr>\n",
       "      <th>7</th>\n",
       "      <td>41</td>\n",
       "      <td>0.029241</td>\n",
       "      <td>1.088553</td>\n",
       "      <td>0.297440</td>\n",
       "      <td>1.385993</td>\n",
       "    </tr>\n",
       "    <tr>\n",
       "      <th>8</th>\n",
       "      <td>65</td>\n",
       "      <td>0.025513</td>\n",
       "      <td>1.101746</td>\n",
       "      <td>0.322953</td>\n",
       "      <td>1.424700</td>\n",
       "    </tr>\n",
       "    <tr>\n",
       "      <th>9</th>\n",
       "      <td>40</td>\n",
       "      <td>0.034378</td>\n",
       "      <td>1.100204</td>\n",
       "      <td>0.357331</td>\n",
       "      <td>1.457536</td>\n",
       "    </tr>\n",
       "  </tbody>\n",
       "</table>\n",
       "</div>"
      ],
      "text/plain": [
       "   pitch      step  duration     start       end\n",
       "0     78  0.089361  0.601668  0.089361  0.691029\n",
       "1     45  0.056077  1.067571  0.145438  1.213008\n",
       "2     41  0.031577  1.084505  0.177015  1.261520\n",
       "3     40  0.014793  1.094581  0.191809  1.286389\n",
       "4     36  0.018356  1.097823  0.210164  1.307988\n",
       "5     40  0.023389  1.092744  0.233553  1.326297\n",
       "6     40  0.034646  1.050740  0.268199  1.318939\n",
       "7     41  0.029241  1.088553  0.297440  1.385993\n",
       "8     65  0.025513  1.101746  0.322953  1.424700\n",
       "9     40  0.034378  1.100204  0.357331  1.457536"
      ]
     },
     "execution_count": 94,
     "metadata": {},
     "output_type": "execute_result"
    }
   ],
   "source": [
    "generated_notes.head(10)"
   ]
  },
  {
   "cell_type": "code",
   "execution_count": 95,
   "id": "7f81f6b5",
   "metadata": {},
   "outputs": [],
   "source": [
    "out_file = 'output.mid'\n",
    "out_pm = notes_to_midi(\n",
    "    generated_notes, out_file=out_file, instrument_name=instrument_name)"
   ]
  },
  {
   "cell_type": "code",
   "execution_count": 96,
   "id": "d087933a",
   "metadata": {},
   "outputs": [
    {
     "data": {
      "image/png": "[encoded data removed]",
      "text/plain": [
       "<Figure size 1440x288 with 1 Axes>"
      ]
     },
     "metadata": {
      "needs_background": "light"
     },
     "output_type": "display_data"
    }
   ],
   "source": [
    "plot_piano_roll(generated_notes)"
   ]
  },
  {
   "cell_type": "code",
   "execution_count": 65,
   "id": "3dbbfb86",
   "metadata": {},
   "outputs": [
    {
     "data": {
      "image/png": "[encoded data removed]",
      "text/plain": [
       "<Figure size 1080x360 with 3 Axes>"
      ]
     },
     "metadata": {
      "needs_background": "light"
     },
     "output_type": "display_data"
    }
   ],
   "source": [
    "plot_distributions(generated_notes)"
   ]
  },
  {
   "cell_type": "code",
   "execution_count": 97,
   "id": "28cb25da",
   "metadata": {},
   "outputs": [
    {
     "data": {
      "image/png": "[encoded data removed]",
      "text/plain": [
       "<Figure size 1440x288 with 1 Axes>"
      ]
     },
     "metadata": {
      "needs_background": "light"
     },
     "output_type": "display_data"
    }
   ],
   "source": []
  },
  {
   "cell_type": "code",
   "execution_count": null,
   "id": "396e4377",
   "metadata": {},
   "outputs": [],
   "source": []
  }
 ],
 "metadata": {
  "kernelspec": {
   "display_name": "Python 3 (ipykernel)",
   "language": "python",
   "name": "python3"
  },
  "language_info": {
   "codemirror_mode": {
    "name": "ipython",
    "version": 3
   },
   "file_extension": ".py",
   "mimetype": "text/x-python",
   "name": "python",
   "nbconvert_exporter": "python",
   "pygments_lexer": "ipython3",
   "version": "3.10.4"
  }
 },
 "nbformat": 4,
 "nbformat_minor": 5
}
